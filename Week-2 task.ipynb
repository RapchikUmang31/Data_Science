{
 "cells": [
  {
   "cell_type": "code",
   "execution_count": 31,
   "metadata": {},
   "outputs": [],
   "source": [
    "import numpy as np\n",
    "import pandas as pd\n",
    "import matplotlib.pyplot as plt"
   ]
  },
  {
   "cell_type": "code",
   "execution_count": 8,
   "metadata": {},
   "outputs": [
    {
     "data": {
      "text/html": [
       "<div>\n",
       "<style scoped>\n",
       "    .dataframe tbody tr th:only-of-type {\n",
       "        vertical-align: middle;\n",
       "    }\n",
       "\n",
       "    .dataframe tbody tr th {\n",
       "        vertical-align: top;\n",
       "    }\n",
       "\n",
       "    .dataframe thead th {\n",
       "        text-align: right;\n",
       "    }\n",
       "</style>\n",
       "<table border=\"1\" class=\"dataframe\">\n",
       "  <thead>\n",
       "    <tr style=\"text-align: right;\">\n",
       "      <th></th>\n",
       "      <th>sample index</th>\n",
       "      <th>class_label</th>\n",
       "      <th>sensor0</th>\n",
       "      <th>sensor1</th>\n",
       "      <th>sensor2</th>\n",
       "      <th>sensor3</th>\n",
       "      <th>sensor4</th>\n",
       "      <th>sensor5</th>\n",
       "      <th>sensor6</th>\n",
       "      <th>sensor7</th>\n",
       "      <th>sensor8</th>\n",
       "      <th>sensor9</th>\n",
       "    </tr>\n",
       "  </thead>\n",
       "  <tbody>\n",
       "    <tr>\n",
       "      <th>0</th>\n",
       "      <td>sample0</td>\n",
       "      <td>1.0</td>\n",
       "      <td>0.834251</td>\n",
       "      <td>0.726081</td>\n",
       "      <td>0.535904</td>\n",
       "      <td>0.214896</td>\n",
       "      <td>0.873788</td>\n",
       "      <td>0.767605</td>\n",
       "      <td>0.111308</td>\n",
       "      <td>0.557526</td>\n",
       "      <td>0.599650</td>\n",
       "      <td>0.665569</td>\n",
       "    </tr>\n",
       "    <tr>\n",
       "      <th>1</th>\n",
       "      <td>sample1</td>\n",
       "      <td>1.0</td>\n",
       "      <td>0.804059</td>\n",
       "      <td>0.253135</td>\n",
       "      <td>0.869867</td>\n",
       "      <td>0.334285</td>\n",
       "      <td>0.604075</td>\n",
       "      <td>0.494045</td>\n",
       "      <td>0.833575</td>\n",
       "      <td>0.194190</td>\n",
       "      <td>0.014966</td>\n",
       "      <td>0.802918</td>\n",
       "    </tr>\n",
       "    <tr>\n",
       "      <th>2</th>\n",
       "      <td>sample2</td>\n",
       "      <td>1.0</td>\n",
       "      <td>0.694404</td>\n",
       "      <td>0.595777</td>\n",
       "      <td>0.581294</td>\n",
       "      <td>0.799003</td>\n",
       "      <td>0.762857</td>\n",
       "      <td>0.651393</td>\n",
       "      <td>0.075905</td>\n",
       "      <td>0.007186</td>\n",
       "      <td>0.659633</td>\n",
       "      <td>0.831009</td>\n",
       "    </tr>\n",
       "    <tr>\n",
       "      <th>3</th>\n",
       "      <td>sample3</td>\n",
       "      <td>1.0</td>\n",
       "      <td>0.783690</td>\n",
       "      <td>0.038780</td>\n",
       "      <td>0.285043</td>\n",
       "      <td>0.627305</td>\n",
       "      <td>0.800620</td>\n",
       "      <td>0.486340</td>\n",
       "      <td>0.827723</td>\n",
       "      <td>0.339807</td>\n",
       "      <td>0.731343</td>\n",
       "      <td>0.892359</td>\n",
       "    </tr>\n",
       "    <tr>\n",
       "      <th>4</th>\n",
       "      <td>sample4</td>\n",
       "      <td>1.0</td>\n",
       "      <td>0.788835</td>\n",
       "      <td>0.174433</td>\n",
       "      <td>0.348770</td>\n",
       "      <td>0.938244</td>\n",
       "      <td>0.692065</td>\n",
       "      <td>0.377620</td>\n",
       "      <td>0.183760</td>\n",
       "      <td>0.616805</td>\n",
       "      <td>0.492899</td>\n",
       "      <td>0.930969</td>\n",
       "    </tr>\n",
       "  </tbody>\n",
       "</table>\n",
       "</div>"
      ],
      "text/plain": [
       "  sample index  class_label   sensor0   sensor1   sensor2   sensor3   sensor4  \\\n",
       "0      sample0          1.0  0.834251  0.726081  0.535904  0.214896  0.873788   \n",
       "1      sample1          1.0  0.804059  0.253135  0.869867  0.334285  0.604075   \n",
       "2      sample2          1.0  0.694404  0.595777  0.581294  0.799003  0.762857   \n",
       "3      sample3          1.0  0.783690  0.038780  0.285043  0.627305  0.800620   \n",
       "4      sample4          1.0  0.788835  0.174433  0.348770  0.938244  0.692065   \n",
       "\n",
       "    sensor5   sensor6   sensor7   sensor8   sensor9  \n",
       "0  0.767605  0.111308  0.557526  0.599650  0.665569  \n",
       "1  0.494045  0.833575  0.194190  0.014966  0.802918  \n",
       "2  0.651393  0.075905  0.007186  0.659633  0.831009  \n",
       "3  0.486340  0.827723  0.339807  0.731343  0.892359  \n",
       "4  0.377620  0.183760  0.616805  0.492899  0.930969  "
      ]
     },
     "execution_count": 8,
     "metadata": {},
     "output_type": "execute_result"
    }
   ],
   "source": [
    "main_data = pd.read_csv(r\"G:\\Projects\\Internship\\Week-2-Final\\Task\\Task-1\\task_data.csv\")\n",
    "main_data.head()"
   ]
  },
  {
   "cell_type": "code",
   "execution_count": 9,
   "metadata": {},
   "outputs": [
    {
     "data": {
      "text/html": [
       "<div>\n",
       "<style scoped>\n",
       "    .dataframe tbody tr th:only-of-type {\n",
       "        vertical-align: middle;\n",
       "    }\n",
       "\n",
       "    .dataframe tbody tr th {\n",
       "        vertical-align: top;\n",
       "    }\n",
       "\n",
       "    .dataframe thead th {\n",
       "        text-align: right;\n",
       "    }\n",
       "</style>\n",
       "<table border=\"1\" class=\"dataframe\">\n",
       "  <thead>\n",
       "    <tr style=\"text-align: right;\">\n",
       "      <th></th>\n",
       "      <th>class_label</th>\n",
       "      <th>sensor0</th>\n",
       "      <th>sensor1</th>\n",
       "      <th>sensor2</th>\n",
       "      <th>sensor3</th>\n",
       "      <th>sensor4</th>\n",
       "      <th>sensor5</th>\n",
       "      <th>sensor6</th>\n",
       "      <th>sensor7</th>\n",
       "      <th>sensor8</th>\n",
       "      <th>sensor9</th>\n",
       "    </tr>\n",
       "  </thead>\n",
       "  <tbody>\n",
       "    <tr>\n",
       "      <th>count</th>\n",
       "      <td>400.000000</td>\n",
       "      <td>400.000000</td>\n",
       "      <td>400.000000</td>\n",
       "      <td>400.000000</td>\n",
       "      <td>400.000000</td>\n",
       "      <td>400.000000</td>\n",
       "      <td>400.000000</td>\n",
       "      <td>400.000000</td>\n",
       "      <td>400.000000</td>\n",
       "      <td>400.000000</td>\n",
       "      <td>400.000000</td>\n",
       "    </tr>\n",
       "    <tr>\n",
       "      <th>mean</th>\n",
       "      <td>0.000000</td>\n",
       "      <td>0.523661</td>\n",
       "      <td>0.509223</td>\n",
       "      <td>0.481238</td>\n",
       "      <td>0.509752</td>\n",
       "      <td>0.497875</td>\n",
       "      <td>0.501065</td>\n",
       "      <td>0.490480</td>\n",
       "      <td>0.482372</td>\n",
       "      <td>0.482822</td>\n",
       "      <td>0.541933</td>\n",
       "    </tr>\n",
       "    <tr>\n",
       "      <th>std</th>\n",
       "      <td>1.001252</td>\n",
       "      <td>0.268194</td>\n",
       "      <td>0.276878</td>\n",
       "      <td>0.287584</td>\n",
       "      <td>0.297712</td>\n",
       "      <td>0.288208</td>\n",
       "      <td>0.287634</td>\n",
       "      <td>0.289954</td>\n",
       "      <td>0.282714</td>\n",
       "      <td>0.296180</td>\n",
       "      <td>0.272490</td>\n",
       "    </tr>\n",
       "    <tr>\n",
       "      <th>min</th>\n",
       "      <td>-1.000000</td>\n",
       "      <td>0.007775</td>\n",
       "      <td>0.003865</td>\n",
       "      <td>0.004473</td>\n",
       "      <td>0.001466</td>\n",
       "      <td>0.000250</td>\n",
       "      <td>0.000425</td>\n",
       "      <td>0.000173</td>\n",
       "      <td>0.003322</td>\n",
       "      <td>0.003165</td>\n",
       "      <td>0.000452</td>\n",
       "    </tr>\n",
       "    <tr>\n",
       "      <th>25%</th>\n",
       "      <td>-1.000000</td>\n",
       "      <td>0.299792</td>\n",
       "      <td>0.283004</td>\n",
       "      <td>0.235544</td>\n",
       "      <td>0.262697</td>\n",
       "      <td>0.249369</td>\n",
       "      <td>0.269430</td>\n",
       "      <td>0.226687</td>\n",
       "      <td>0.242848</td>\n",
       "      <td>0.213626</td>\n",
       "      <td>0.321264</td>\n",
       "    </tr>\n",
       "    <tr>\n",
       "      <th>50%</th>\n",
       "      <td>0.000000</td>\n",
       "      <td>0.534906</td>\n",
       "      <td>0.507583</td>\n",
       "      <td>0.460241</td>\n",
       "      <td>0.510066</td>\n",
       "      <td>0.497842</td>\n",
       "      <td>0.497108</td>\n",
       "      <td>0.477341</td>\n",
       "      <td>0.463438</td>\n",
       "      <td>0.462251</td>\n",
       "      <td>0.578389</td>\n",
       "    </tr>\n",
       "    <tr>\n",
       "      <th>75%</th>\n",
       "      <td>1.000000</td>\n",
       "      <td>0.751887</td>\n",
       "      <td>0.727843</td>\n",
       "      <td>0.734937</td>\n",
       "      <td>0.768975</td>\n",
       "      <td>0.743401</td>\n",
       "      <td>0.738854</td>\n",
       "      <td>0.735304</td>\n",
       "      <td>0.732483</td>\n",
       "      <td>0.740542</td>\n",
       "      <td>0.768990</td>\n",
       "    </tr>\n",
       "    <tr>\n",
       "      <th>max</th>\n",
       "      <td>1.000000</td>\n",
       "      <td>0.999476</td>\n",
       "      <td>0.998680</td>\n",
       "      <td>0.992963</td>\n",
       "      <td>0.995119</td>\n",
       "      <td>0.999412</td>\n",
       "      <td>0.997367</td>\n",
       "      <td>0.997141</td>\n",
       "      <td>0.998230</td>\n",
       "      <td>0.996098</td>\n",
       "      <td>0.999465</td>\n",
       "    </tr>\n",
       "  </tbody>\n",
       "</table>\n",
       "</div>"
      ],
      "text/plain": [
       "       class_label     sensor0     sensor1     sensor2     sensor3  \\\n",
       "count   400.000000  400.000000  400.000000  400.000000  400.000000   \n",
       "mean      0.000000    0.523661    0.509223    0.481238    0.509752   \n",
       "std       1.001252    0.268194    0.276878    0.287584    0.297712   \n",
       "min      -1.000000    0.007775    0.003865    0.004473    0.001466   \n",
       "25%      -1.000000    0.299792    0.283004    0.235544    0.262697   \n",
       "50%       0.000000    0.534906    0.507583    0.460241    0.510066   \n",
       "75%       1.000000    0.751887    0.727843    0.734937    0.768975   \n",
       "max       1.000000    0.999476    0.998680    0.992963    0.995119   \n",
       "\n",
       "          sensor4     sensor5     sensor6     sensor7     sensor8     sensor9  \n",
       "count  400.000000  400.000000  400.000000  400.000000  400.000000  400.000000  \n",
       "mean     0.497875    0.501065    0.490480    0.482372    0.482822    0.541933  \n",
       "std      0.288208    0.287634    0.289954    0.282714    0.296180    0.272490  \n",
       "min      0.000250    0.000425    0.000173    0.003322    0.003165    0.000452  \n",
       "25%      0.249369    0.269430    0.226687    0.242848    0.213626    0.321264  \n",
       "50%      0.497842    0.497108    0.477341    0.463438    0.462251    0.578389  \n",
       "75%      0.743401    0.738854    0.735304    0.732483    0.740542    0.768990  \n",
       "max      0.999412    0.997367    0.997141    0.998230    0.996098    0.999465  "
      ]
     },
     "execution_count": 9,
     "metadata": {},
     "output_type": "execute_result"
    }
   ],
   "source": [
    "main_data.describe()"
   ]
  },
  {
   "cell_type": "code",
   "execution_count": 11,
   "metadata": {},
   "outputs": [
    {
     "name": "stdout",
     "output_type": "stream",
     "text": [
      "Missing data:\n",
      "sample index    0\n",
      "class_label     0\n",
      "sensor0         0\n",
      "sensor1         0\n",
      "sensor2         0\n",
      "sensor3         0\n",
      "sensor4         0\n",
      "sensor5         0\n",
      "sensor6         0\n",
      "sensor7         0\n",
      "sensor8         0\n",
      "sensor9         0\n",
      "dtype: int64\n"
     ]
    }
   ],
   "source": [
    "print(\"Missing data:\")\n",
    "print(main_data.isnull().sum())"
   ]
  },
  {
   "cell_type": "code",
   "execution_count": 13,
   "metadata": {},
   "outputs": [
    {
     "data": {
      "text/plain": [
       "(400, 12)"
      ]
     },
     "execution_count": 13,
     "metadata": {},
     "output_type": "execute_result"
    }
   ],
   "source": [
    "main_data.shape"
   ]
  },
  {
   "cell_type": "code",
   "execution_count": 14,
   "metadata": {},
   "outputs": [
    {
     "name": "stdout",
     "output_type": "stream",
     "text": [
      "<class 'pandas.core.frame.DataFrame'>\n",
      "RangeIndex: 400 entries, 0 to 399\n",
      "Data columns (total 12 columns):\n",
      "sample index    400 non-null object\n",
      "class_label     400 non-null float64\n",
      "sensor0         400 non-null float64\n",
      "sensor1         400 non-null float64\n",
      "sensor2         400 non-null float64\n",
      "sensor3         400 non-null float64\n",
      "sensor4         400 non-null float64\n",
      "sensor5         400 non-null float64\n",
      "sensor6         400 non-null float64\n",
      "sensor7         400 non-null float64\n",
      "sensor8         400 non-null float64\n",
      "sensor9         400 non-null float64\n",
      "dtypes: float64(11), object(1)\n",
      "memory usage: 37.6+ KB\n"
     ]
    }
   ],
   "source": [
    "main_data.info()"
   ]
  },
  {
   "cell_type": "code",
   "execution_count": 29,
   "metadata": {},
   "outputs": [],
   "source": [
    "#main_data['Attrition'].value_counts()\n",
    "\n",
    "main_data.columns\n",
    "corr_data = main_data.corr()"
   ]
  },
  {
   "cell_type": "code",
   "execution_count": 30,
   "metadata": {},
   "outputs": [
    {
     "data": {
      "text/html": [
       "<div>\n",
       "<style scoped>\n",
       "    .dataframe tbody tr th:only-of-type {\n",
       "        vertical-align: middle;\n",
       "    }\n",
       "\n",
       "    .dataframe tbody tr th {\n",
       "        vertical-align: top;\n",
       "    }\n",
       "\n",
       "    .dataframe thead th {\n",
       "        text-align: right;\n",
       "    }\n",
       "</style>\n",
       "<table border=\"1\" class=\"dataframe\">\n",
       "  <thead>\n",
       "    <tr style=\"text-align: right;\">\n",
       "      <th></th>\n",
       "      <th>class_label</th>\n",
       "      <th>sensor0</th>\n",
       "      <th>sensor1</th>\n",
       "      <th>sensor2</th>\n",
       "      <th>sensor3</th>\n",
       "      <th>sensor4</th>\n",
       "      <th>sensor5</th>\n",
       "      <th>sensor6</th>\n",
       "      <th>sensor7</th>\n",
       "      <th>sensor8</th>\n",
       "      <th>sensor9</th>\n",
       "    </tr>\n",
       "  </thead>\n",
       "  <tbody>\n",
       "    <tr>\n",
       "      <th>class_label</th>\n",
       "      <td>1.000000</td>\n",
       "      <td>0.543295</td>\n",
       "      <td>-0.252007</td>\n",
       "      <td>0.038775</td>\n",
       "      <td>0.433636</td>\n",
       "      <td>0.607623</td>\n",
       "      <td>0.224147</td>\n",
       "      <td>-0.007414</td>\n",
       "      <td>0.175612</td>\n",
       "      <td>0.660618</td>\n",
       "      <td>0.094907</td>\n",
       "    </tr>\n",
       "    <tr>\n",
       "      <th>sensor0</th>\n",
       "      <td>0.543295</td>\n",
       "      <td>1.000000</td>\n",
       "      <td>-0.215668</td>\n",
       "      <td>0.019521</td>\n",
       "      <td>0.253244</td>\n",
       "      <td>0.300760</td>\n",
       "      <td>0.164243</td>\n",
       "      <td>-0.007849</td>\n",
       "      <td>0.080306</td>\n",
       "      <td>0.361751</td>\n",
       "      <td>0.001317</td>\n",
       "    </tr>\n",
       "    <tr>\n",
       "      <th>sensor1</th>\n",
       "      <td>-0.252007</td>\n",
       "      <td>-0.215668</td>\n",
       "      <td>1.000000</td>\n",
       "      <td>0.056042</td>\n",
       "      <td>-0.111347</td>\n",
       "      <td>-0.130463</td>\n",
       "      <td>0.055401</td>\n",
       "      <td>-0.106082</td>\n",
       "      <td>0.031513</td>\n",
       "      <td>-0.163818</td>\n",
       "      <td>-0.023655</td>\n",
       "    </tr>\n",
       "    <tr>\n",
       "      <th>sensor2</th>\n",
       "      <td>0.038775</td>\n",
       "      <td>0.019521</td>\n",
       "      <td>0.056042</td>\n",
       "      <td>1.000000</td>\n",
       "      <td>0.093447</td>\n",
       "      <td>-0.023486</td>\n",
       "      <td>-0.008948</td>\n",
       "      <td>-0.057090</td>\n",
       "      <td>0.006899</td>\n",
       "      <td>-0.008308</td>\n",
       "      <td>-0.058528</td>\n",
       "    </tr>\n",
       "    <tr>\n",
       "      <th>sensor3</th>\n",
       "      <td>0.433636</td>\n",
       "      <td>0.253244</td>\n",
       "      <td>-0.111347</td>\n",
       "      <td>0.093447</td>\n",
       "      <td>1.000000</td>\n",
       "      <td>0.295136</td>\n",
       "      <td>0.038152</td>\n",
       "      <td>-0.105005</td>\n",
       "      <td>0.001243</td>\n",
       "      <td>0.287776</td>\n",
       "      <td>0.013732</td>\n",
       "    </tr>\n",
       "    <tr>\n",
       "      <th>sensor4</th>\n",
       "      <td>0.607623</td>\n",
       "      <td>0.300760</td>\n",
       "      <td>-0.130463</td>\n",
       "      <td>-0.023486</td>\n",
       "      <td>0.295136</td>\n",
       "      <td>1.000000</td>\n",
       "      <td>0.183916</td>\n",
       "      <td>-0.022690</td>\n",
       "      <td>0.090186</td>\n",
       "      <td>0.378306</td>\n",
       "      <td>0.023776</td>\n",
       "    </tr>\n",
       "    <tr>\n",
       "      <th>sensor5</th>\n",
       "      <td>0.224147</td>\n",
       "      <td>0.164243</td>\n",
       "      <td>0.055401</td>\n",
       "      <td>-0.008948</td>\n",
       "      <td>0.038152</td>\n",
       "      <td>0.183916</td>\n",
       "      <td>1.000000</td>\n",
       "      <td>-0.061238</td>\n",
       "      <td>0.020814</td>\n",
       "      <td>0.220014</td>\n",
       "      <td>0.071258</td>\n",
       "    </tr>\n",
       "    <tr>\n",
       "      <th>sensor6</th>\n",
       "      <td>-0.007414</td>\n",
       "      <td>-0.007849</td>\n",
       "      <td>-0.106082</td>\n",
       "      <td>-0.057090</td>\n",
       "      <td>-0.105005</td>\n",
       "      <td>-0.022690</td>\n",
       "      <td>-0.061238</td>\n",
       "      <td>1.000000</td>\n",
       "      <td>0.065211</td>\n",
       "      <td>-0.073309</td>\n",
       "      <td>0.040744</td>\n",
       "    </tr>\n",
       "    <tr>\n",
       "      <th>sensor7</th>\n",
       "      <td>0.175612</td>\n",
       "      <td>0.080306</td>\n",
       "      <td>0.031513</td>\n",
       "      <td>0.006899</td>\n",
       "      <td>0.001243</td>\n",
       "      <td>0.090186</td>\n",
       "      <td>0.020814</td>\n",
       "      <td>0.065211</td>\n",
       "      <td>1.000000</td>\n",
       "      <td>0.060028</td>\n",
       "      <td>0.059341</td>\n",
       "    </tr>\n",
       "    <tr>\n",
       "      <th>sensor8</th>\n",
       "      <td>0.660618</td>\n",
       "      <td>0.361751</td>\n",
       "      <td>-0.163818</td>\n",
       "      <td>-0.008308</td>\n",
       "      <td>0.287776</td>\n",
       "      <td>0.378306</td>\n",
       "      <td>0.220014</td>\n",
       "      <td>-0.073309</td>\n",
       "      <td>0.060028</td>\n",
       "      <td>1.000000</td>\n",
       "      <td>-0.033991</td>\n",
       "    </tr>\n",
       "    <tr>\n",
       "      <th>sensor9</th>\n",
       "      <td>0.094907</td>\n",
       "      <td>0.001317</td>\n",
       "      <td>-0.023655</td>\n",
       "      <td>-0.058528</td>\n",
       "      <td>0.013732</td>\n",
       "      <td>0.023776</td>\n",
       "      <td>0.071258</td>\n",
       "      <td>0.040744</td>\n",
       "      <td>0.059341</td>\n",
       "      <td>-0.033991</td>\n",
       "      <td>1.000000</td>\n",
       "    </tr>\n",
       "  </tbody>\n",
       "</table>\n",
       "</div>"
      ],
      "text/plain": [
       "             class_label   sensor0   sensor1   sensor2   sensor3   sensor4  \\\n",
       "class_label     1.000000  0.543295 -0.252007  0.038775  0.433636  0.607623   \n",
       "sensor0         0.543295  1.000000 -0.215668  0.019521  0.253244  0.300760   \n",
       "sensor1        -0.252007 -0.215668  1.000000  0.056042 -0.111347 -0.130463   \n",
       "sensor2         0.038775  0.019521  0.056042  1.000000  0.093447 -0.023486   \n",
       "sensor3         0.433636  0.253244 -0.111347  0.093447  1.000000  0.295136   \n",
       "sensor4         0.607623  0.300760 -0.130463 -0.023486  0.295136  1.000000   \n",
       "sensor5         0.224147  0.164243  0.055401 -0.008948  0.038152  0.183916   \n",
       "sensor6        -0.007414 -0.007849 -0.106082 -0.057090 -0.105005 -0.022690   \n",
       "sensor7         0.175612  0.080306  0.031513  0.006899  0.001243  0.090186   \n",
       "sensor8         0.660618  0.361751 -0.163818 -0.008308  0.287776  0.378306   \n",
       "sensor9         0.094907  0.001317 -0.023655 -0.058528  0.013732  0.023776   \n",
       "\n",
       "              sensor5   sensor6   sensor7   sensor8   sensor9  \n",
       "class_label  0.224147 -0.007414  0.175612  0.660618  0.094907  \n",
       "sensor0      0.164243 -0.007849  0.080306  0.361751  0.001317  \n",
       "sensor1      0.055401 -0.106082  0.031513 -0.163818 -0.023655  \n",
       "sensor2     -0.008948 -0.057090  0.006899 -0.008308 -0.058528  \n",
       "sensor3      0.038152 -0.105005  0.001243  0.287776  0.013732  \n",
       "sensor4      0.183916 -0.022690  0.090186  0.378306  0.023776  \n",
       "sensor5      1.000000 -0.061238  0.020814  0.220014  0.071258  \n",
       "sensor6     -0.061238  1.000000  0.065211 -0.073309  0.040744  \n",
       "sensor7      0.020814  0.065211  1.000000  0.060028  0.059341  \n",
       "sensor8      0.220014 -0.073309  0.060028  1.000000 -0.033991  \n",
       "sensor9      0.071258  0.040744  0.059341 -0.033991  1.000000  "
      ]
     },
     "execution_count": 30,
     "metadata": {},
     "output_type": "execute_result"
    }
   ],
   "source": [
    "corr_data"
   ]
  },
  {
   "cell_type": "code",
   "execution_count": 35,
   "metadata": {
    "scrolled": true
   },
   "outputs": [
    {
     "data": {
      "text/plain": [
       "<matplotlib.axes._subplots.AxesSubplot at 0x2ad72059c18>"
      ]
     },
     "execution_count": 35,
     "metadata": {},
     "output_type": "execute_result"
    },
    {
     "data": {
      "image/png": "[encoded data removed]",
      "text/plain": [
       "<Figure size 720x360 with 2 Axes>"
      ]
     },
     "metadata": {
      "needs_background": "light"
     },
     "output_type": "display_data"
    }
   ],
   "source": [
    "#import seaborn\n",
    "import seaborn as sns\n",
    "\n",
    "plt.subplots(figsize=(10,5))\n",
    "sns.heatmap(corr_data,xticklabels=corr_data.columns.values,\n",
    "            yticklabels=corr_data.columns.values,annot=True,cmap=\"coolwarm\",fmt=\"0.2f\",linewidth=0.01)"
   ]
  },
  {
   "cell_type": "code",
   "execution_count": 119,
   "metadata": {},
   "outputs": [
    {
     "data": {
      "text/html": [
       "<div>\n",
       "<style scoped>\n",
       "    .dataframe tbody tr th:only-of-type {\n",
       "        vertical-align: middle;\n",
       "    }\n",
       "\n",
       "    .dataframe tbody tr th {\n",
       "        vertical-align: top;\n",
       "    }\n",
       "\n",
       "    .dataframe thead th {\n",
       "        text-align: right;\n",
       "    }\n",
       "</style>\n",
       "<table border=\"1\" class=\"dataframe\">\n",
       "  <thead>\n",
       "    <tr style=\"text-align: right;\">\n",
       "      <th></th>\n",
       "      <th>sensor0</th>\n",
       "      <th>sensor1</th>\n",
       "      <th>sensor2</th>\n",
       "      <th>sensor3</th>\n",
       "      <th>sensor4</th>\n",
       "      <th>sensor5</th>\n",
       "      <th>sensor6</th>\n",
       "      <th>sensor7</th>\n",
       "      <th>sensor8</th>\n",
       "      <th>sensor9</th>\n",
       "    </tr>\n",
       "  </thead>\n",
       "  <tbody>\n",
       "    <tr>\n",
       "      <th>0</th>\n",
       "      <td>0.834251</td>\n",
       "      <td>0.726081</td>\n",
       "      <td>0.535904</td>\n",
       "      <td>0.214896</td>\n",
       "      <td>0.873788</td>\n",
       "      <td>0.767605</td>\n",
       "      <td>0.111308</td>\n",
       "      <td>0.557526</td>\n",
       "      <td>0.599650</td>\n",
       "      <td>0.665569</td>\n",
       "    </tr>\n",
       "    <tr>\n",
       "      <th>1</th>\n",
       "      <td>0.804059</td>\n",
       "      <td>0.253135</td>\n",
       "      <td>0.869867</td>\n",
       "      <td>0.334285</td>\n",
       "      <td>0.604075</td>\n",
       "      <td>0.494045</td>\n",
       "      <td>0.833575</td>\n",
       "      <td>0.194190</td>\n",
       "      <td>0.014966</td>\n",
       "      <td>0.802918</td>\n",
       "    </tr>\n",
       "    <tr>\n",
       "      <th>2</th>\n",
       "      <td>0.694404</td>\n",
       "      <td>0.595777</td>\n",
       "      <td>0.581294</td>\n",
       "      <td>0.799003</td>\n",
       "      <td>0.762857</td>\n",
       "      <td>0.651393</td>\n",
       "      <td>0.075905</td>\n",
       "      <td>0.007186</td>\n",
       "      <td>0.659633</td>\n",
       "      <td>0.831009</td>\n",
       "    </tr>\n",
       "    <tr>\n",
       "      <th>3</th>\n",
       "      <td>0.783690</td>\n",
       "      <td>0.038780</td>\n",
       "      <td>0.285043</td>\n",
       "      <td>0.627305</td>\n",
       "      <td>0.800620</td>\n",
       "      <td>0.486340</td>\n",
       "      <td>0.827723</td>\n",
       "      <td>0.339807</td>\n",
       "      <td>0.731343</td>\n",
       "      <td>0.892359</td>\n",
       "    </tr>\n",
       "    <tr>\n",
       "      <th>4</th>\n",
       "      <td>0.788835</td>\n",
       "      <td>0.174433</td>\n",
       "      <td>0.348770</td>\n",
       "      <td>0.938244</td>\n",
       "      <td>0.692065</td>\n",
       "      <td>0.377620</td>\n",
       "      <td>0.183760</td>\n",
       "      <td>0.616805</td>\n",
       "      <td>0.492899</td>\n",
       "      <td>0.930969</td>\n",
       "    </tr>\n",
       "  </tbody>\n",
       "</table>\n",
       "</div>"
      ],
      "text/plain": [
       "    sensor0   sensor1   sensor2   sensor3   sensor4   sensor5   sensor6  \\\n",
       "0  0.834251  0.726081  0.535904  0.214896  0.873788  0.767605  0.111308   \n",
       "1  0.804059  0.253135  0.869867  0.334285  0.604075  0.494045  0.833575   \n",
       "2  0.694404  0.595777  0.581294  0.799003  0.762857  0.651393  0.075905   \n",
       "3  0.783690  0.038780  0.285043  0.627305  0.800620  0.486340  0.827723   \n",
       "4  0.788835  0.174433  0.348770  0.938244  0.692065  0.377620  0.183760   \n",
       "\n",
       "    sensor7   sensor8   sensor9  \n",
       "0  0.557526  0.599650  0.665569  \n",
       "1  0.194190  0.014966  0.802918  \n",
       "2  0.007186  0.659633  0.831009  \n",
       "3  0.339807  0.731343  0.892359  \n",
       "4  0.616805  0.492899  0.930969  "
      ]
     },
     "execution_count": 119,
     "metadata": {},
     "output_type": "execute_result"
    }
   ],
   "source": [
    "X = main_data.drop([\"class_label\",\"sample index\"],axis=1)\n",
    "X.head()"
   ]
  },
  {
   "cell_type": "code",
   "execution_count": 120,
   "metadata": {},
   "outputs": [
    {
     "name": "stdout",
     "output_type": "stream",
     "text": [
      "(400, 1)\n"
     ]
    }
   ],
   "source": [
    "Y = main_data.iloc[:,1:2]\n",
    "print(Y.shape)"
   ]
  },
  {
   "cell_type": "code",
   "execution_count": 121,
   "metadata": {},
   "outputs": [
    {
     "data": {
      "text/html": [
       "<div>\n",
       "<style scoped>\n",
       "    .dataframe tbody tr th:only-of-type {\n",
       "        vertical-align: middle;\n",
       "    }\n",
       "\n",
       "    .dataframe tbody tr th {\n",
       "        vertical-align: top;\n",
       "    }\n",
       "\n",
       "    .dataframe thead th {\n",
       "        text-align: right;\n",
       "    }\n",
       "</style>\n",
       "<table border=\"1\" class=\"dataframe\">\n",
       "  <thead>\n",
       "    <tr style=\"text-align: right;\">\n",
       "      <th></th>\n",
       "      <th>class_label</th>\n",
       "    </tr>\n",
       "  </thead>\n",
       "  <tbody>\n",
       "    <tr>\n",
       "      <th>0</th>\n",
       "      <td>1.0</td>\n",
       "    </tr>\n",
       "    <tr>\n",
       "      <th>1</th>\n",
       "      <td>1.0</td>\n",
       "    </tr>\n",
       "    <tr>\n",
       "      <th>2</th>\n",
       "      <td>1.0</td>\n",
       "    </tr>\n",
       "    <tr>\n",
       "      <th>3</th>\n",
       "      <td>1.0</td>\n",
       "    </tr>\n",
       "    <tr>\n",
       "      <th>4</th>\n",
       "      <td>1.0</td>\n",
       "    </tr>\n",
       "  </tbody>\n",
       "</table>\n",
       "</div>"
      ],
      "text/plain": [
       "   class_label\n",
       "0          1.0\n",
       "1          1.0\n",
       "2          1.0\n",
       "3          1.0\n",
       "4          1.0"
      ]
     },
     "execution_count": 121,
     "metadata": {},
     "output_type": "execute_result"
    }
   ],
   "source": [
    "Y.head()"
   ]
  },
  {
   "cell_type": "markdown",
   "metadata": {},
   "source": [
    "#sklearn import"
   ]
  },
  {
   "cell_type": "markdown",
   "metadata": {},
   "source": [
    "# Lets chack that data is balanced or not "
   ]
  },
  {
   "cell_type": "code",
   "execution_count": 122,
   "metadata": {
    "scrolled": true
   },
   "outputs": [
    {
     "data": {
      "text/plain": [
       "<matplotlib.axes._subplots.AxesSubplot at 0x2ad728959e8>"
      ]
     },
     "execution_count": 122,
     "metadata": {},
     "output_type": "execute_result"
    },
    {
     "data": {
      "image/png": "[encoded data removed]",
      "text/plain": [
       "<Figure size 432x288 with 1 Axes>"
      ]
     },
     "metadata": {
      "needs_background": "light"
     },
     "output_type": "display_data"
    }
   ],
   "source": [
    "import seaborn as sns\n",
    "sns.countplot(main_data['class_label'])"
   ]
  },
  {
   "cell_type": "markdown",
   "metadata": {},
   "source": [
    "# So the data is balanced "
   ]
  },
  {
   "cell_type": "code",
   "execution_count": 123,
   "metadata": {},
   "outputs": [],
   "source": [
    "from sklearn.ensemble import RandomForestClassifier\n",
    "from sklearn.metrics import accuracy_score"
   ]
  },
  {
   "cell_type": "code",
   "execution_count": 124,
   "metadata": {},
   "outputs": [],
   "source": [
    "x_train,x_test,y_train,y_test=train_test_split(X,Y,random_state=7,test_size=0.20)"
   ]
  },
  {
   "cell_type": "code",
   "execution_count": 125,
   "metadata": {},
   "outputs": [
    {
     "name": "stdout",
     "output_type": "stream",
     "text": [
      "Shape of x_train:  (320, 10)\n",
      "Shape of y_train:  (320, 1)\n",
      "Shape of x_test:  (80, 10)\n",
      "Shape of y_test:  (80, 1)\n"
     ]
    }
   ],
   "source": [
    "print (\"Shape of x_train: \", x_train.shape)\n",
    "print (\"Shape of y_train: \", y_train.shape)\n",
    "print (\"Shape of x_test: \", x_test.shape)\n",
    "print (\"Shape of y_test: \", y_test.shape)"
   ]
  },
  {
   "cell_type": "markdown",
   "metadata": {},
   "source": [
    "# let try some models (Linear regression, logistic regression, random forest )"
   ]
  },
  {
   "cell_type": "code",
   "execution_count": 126,
   "metadata": {},
   "outputs": [],
   "source": [
    "from sklearn import linear_model\n",
    "from sklearn.linear_model import LinearRegression\n",
    "from sklearn import metrics\n",
    "from sklearn.model_selection import train_test_split,RandomizedSearchCV,cross_val_score,cross_val_predict,validation_curve\n",
    "from sklearn.metrics import accuracy_score,confusion_matrix,classification_report\n",
    "from sklearn.tree import DecisionTreeClassifier\n",
    "from sklearn.ensemble import BaggingClassifier\n",
    "\n",
    "\n",
    "def classification_accuracy_report(actual,predicted):\n",
    "    print (\"\\nAccuracy Score on Test Data: \", accuracy_score(actual,predicted))\n",
    "    print (\"\\nConfusion Matrix on Test Data:\\n\", confusion_matrix(actual,predicted))\n",
    "    print (\"\\nClassification Report on Test Data:\\n\",classification_report(actual,predicted))\n",
    "\n",
    "    \n",
    "def features_rank(feature_importance_coefficients,index_labels):\n",
    "    feature_importance_coefficients=map(abs,feature_importance_coefficients)\n",
    "    feature_with_coeff=zip(feature_importance_coefficients,index_labels)\n",
    "    print (\"\\nFeatures and their importances:\\n\", feature_with_coeff)\n",
    "    ranked_features=sorted(feature_with_coeff, key=lambda x: x[0],reverse=True)\n",
    "    print (\"\\nRanked Features:\\n\", [elem[1] for elem in ranked_features])"
   ]
  },
  {
   "cell_type": "markdown",
   "metadata": {},
   "source": [
    "# random forest"
   ]
  },
  {
   "cell_type": "code",
   "execution_count": 144,
   "metadata": {},
   "outputs": [
    {
     "name": "stderr",
     "output_type": "stream",
     "text": [
      "c:\\users\\umang\\appdata\\local\\programs\\python\\python36\\lib\\site-packages\\ipykernel_launcher.py:2: DataConversionWarning: A column-vector y was passed when a 1d array was expected. Please change the shape of y to (n_samples,), for example using ravel().\n",
      "  \n"
     ]
    },
    {
     "data": {
      "text/plain": [
       "RandomForestClassifier()"
      ]
     },
     "execution_count": 144,
     "metadata": {},
     "output_type": "execute_result"
    }
   ],
   "source": [
    "model_1 = RandomForestClassifier()\n",
    "model_1.fit(x_train,y_train)"
   ]
  },
  {
   "cell_type": "code",
   "execution_count": 145,
   "metadata": {},
   "outputs": [
    {
     "data": {
      "text/plain": [
       "RandomForestClassifier()"
      ]
     },
     "execution_count": 145,
     "metadata": {},
     "output_type": "execute_result"
    }
   ],
   "source": [
    "model_1"
   ]
  },
  {
   "cell_type": "code",
   "execution_count": 146,
   "metadata": {},
   "outputs": [],
   "source": [
    "test_predictions = model_1.predict(x_test)"
   ]
  },
  {
   "cell_type": "code",
   "execution_count": 147,
   "metadata": {},
   "outputs": [
    {
     "name": "stdout",
     "output_type": "stream",
     "text": [
      "\n",
      "Accuracy Score on Test Data:  0.9625\n",
      "\n",
      "Confusion Matrix on Test Data:\n",
      " [[40  3]\n",
      " [ 0 37]]\n",
      "\n",
      "Classification Report on Test Data:\n",
      "               precision    recall  f1-score   support\n",
      "\n",
      "        -1.0       1.00      0.93      0.96        43\n",
      "         1.0       0.93      1.00      0.96        37\n",
      "\n",
      "    accuracy                           0.96        80\n",
      "   macro avg       0.96      0.97      0.96        80\n",
      "weighted avg       0.97      0.96      0.96        80\n",
      "\n"
     ]
    }
   ],
   "source": [
    "classification_accuracy_report(y_test,test_predictions)"
   ]
  },
  {
   "cell_type": "code",
   "execution_count": 148,
   "metadata": {},
   "outputs": [
    {
     "name": "stdout",
     "output_type": "stream",
     "text": [
      "\n",
      "Features and their importances:\n",
      " <zip object at 0x000002AD72C2F148>\n",
      "\n",
      "Ranked Features:\n",
      " ['sensor8', 'sensor4', 'sensor6', 'sensor0', 'sensor2', 'sensor1', 'sensor3', 'sensor7', 'sensor5', 'sensor9']\n"
     ]
    }
   ],
   "source": [
    "all_features=['sensor0','sensor1','sensor2','sensor3','sensor4','sensor5','sensor6','sensor7','sensor8','sensor9']\n",
    "coeff_list=model_1.feature_importances_\n",
    "features_rank(coeff_list,all_features)"
   ]
  },
  {
   "cell_type": "code",
   "execution_count": 149,
   "metadata": {},
   "outputs": [
    {
     "name": "stdout",
     "output_type": "stream",
     "text": [
      "[[40  3]\n",
      " [ 0 37]]\n"
     ]
    },
    {
     "data": {
      "text/plain": [
       "<matplotlib.axes._subplots.AxesSubplot at 0x2ad72d73b00>"
      ]
     },
     "execution_count": 149,
     "metadata": {},
     "output_type": "execute_result"
    },
    {
     "data": {
      "image/png": "[encoded data removed]",
      "text/plain": [
       "<Figure size 432x288 with 2 Axes>"
      ]
     },
     "metadata": {
      "needs_background": "light"
     },
     "output_type": "display_data"
    }
   ],
   "source": [
    "confusion_mat = confusion_matrix(y_test, model_1.predict(x_test))\n",
    "print(confusion_mat)\n",
    "sns.heatmap(confusion_mat,annot=True)"
   ]
  },
  {
   "cell_type": "code",
   "execution_count": 150,
   "metadata": {},
   "outputs": [
    {
     "name": "stderr",
     "output_type": "stream",
     "text": [
      "c:\\users\\umang\\appdata\\local\\programs\\python\\python36\\lib\\site-packages\\sklearn\\utils\\validation.py:73: DataConversionWarning: A column-vector y was passed when a 1d array was expected. Please change the shape of y to (n_samples, ), for example using ravel().\n",
      "  return f(**kwargs)\n"
     ]
    },
    {
     "data": {
      "text/plain": [
       "LogisticRegression()"
      ]
     },
     "execution_count": 150,
     "metadata": {},
     "output_type": "execute_result"
    }
   ],
   "source": [
    "from sklearn.linear_model import LogisticRegression\n",
    "model_2 = LogisticRegression()\n",
    "model_2.fit(x_train,y_train)"
   ]
  },
  {
   "cell_type": "code",
   "execution_count": 151,
   "metadata": {},
   "outputs": [
    {
     "data": {
      "text/plain": [
       "LogisticRegression()"
      ]
     },
     "execution_count": 151,
     "metadata": {},
     "output_type": "execute_result"
    }
   ],
   "source": [
    "model_2"
   ]
  },
  {
   "cell_type": "code",
   "execution_count": 140,
   "metadata": {
    "scrolled": true
   },
   "outputs": [
    {
     "name": "stdout",
     "output_type": "stream",
     "text": [
      "\n",
      "Accuracy Score on Test Data:  0.9875\n",
      "\n",
      "Confusion Matrix on Test Data:\n",
      " [[42  1]\n",
      " [ 0 37]]\n",
      "\n",
      "Classification Report on Test Data:\n",
      "               precision    recall  f1-score   support\n",
      "\n",
      "        -1.0       1.00      0.98      0.99        43\n",
      "         1.0       0.97      1.00      0.99        37\n",
      "\n",
      "    accuracy                           0.99        80\n",
      "   macro avg       0.99      0.99      0.99        80\n",
      "weighted avg       0.99      0.99      0.99        80\n",
      "\n"
     ]
    }
   ],
   "source": [
    "test_predictions_2 = model_2.predict(x_test)\n",
    "classification_accuracy_report(y_test,test_predictions)"
   ]
  },
  {
   "cell_type": "code",
   "execution_count": 153,
   "metadata": {},
   "outputs": [
    {
     "name": "stdout",
     "output_type": "stream",
     "text": [
      "\n",
      "Features and their importances:\n",
      " <zip object at 0x000002AD721BE8C8>\n",
      "\n",
      "Ranked Features:\n",
      " ['sensor8', 'sensor4', 'sensor0', 'sensor3', 'sensor1', 'sensor7', 'sensor9', 'sensor5', 'sensor2', 'sensor6']\n"
     ]
    }
   ],
   "source": [
    "import itertools\n",
    "coeff_list=list(itertools.chain(*model_2.coef_.tolist())) #Converting numpy array to list and then flattening\n",
    "features_rank(coeff_list,all_features)"
   ]
  },
  {
   "cell_type": "markdown",
   "metadata": {},
   "source": [
    "# So LogisticRegression is better in this case "
   ]
  }
 ],
 "metadata": {
  "kernelspec": {
   "display_name": "Python 3",
   "language": "python",
   "name": "python3"
  },
  "language_info": {
   "codemirror_mode": {
    "name": "ipython",
    "version": 3
   },
   "file_extension": ".py",
   "mimetype": "text/x-python",
   "name": "python",
   "nbconvert_exporter": "python",
   "pygments_lexer": "ipython3",
   "version": "3.6.2"
  }
 },
 "nbformat": 4,
 "nbformat_minor": 4
}
